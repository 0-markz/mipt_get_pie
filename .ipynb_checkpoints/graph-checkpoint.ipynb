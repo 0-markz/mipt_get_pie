{
 "cells": [
  {
   "cell_type": "code",
   "execution_count": null,
   "id": "3d1eee2a-f16d-4068-879b-7da8c11604d9",
   "metadata": {},
   "outputs": [],
   "source": [
    "import pandas as pd\n",
    "import numpy as np\n",
    "import pprint as pp\n",
    "%matplotlib inline\n",
    "import seaborn as sns\n",
    "import matplotlib.pyplot as plt\n",
    "from scipy.optimize import curve_fit\n",
    "sns.set(style='white')\n",
    "sns.set_palette('Set2')\n",
    "#графики в svg выглядят более четкими\n",
    "%config InlineBackend.figure_format = 'svg' "
   ]
  },
  {
   "cell_type": "code",
   "execution_count": null,
   "id": "2a19c199-4c15-413d-980c-f42abe2ca2a4",
   "metadata": {},
   "outputs": [],
   "source": []
  },
  {
   "cell_type": "code",
   "execution_count": null,
   "id": "4051f035-f097-4423-b275-59f97a2091c7",
   "metadata": {},
   "outputs": [],
   "source": [
    "plt.figure(figsize=(8,6)) \n",
    "\n",
    "plt.plot(x13/1000, y13/100, label=' 1 мл $K_4[Fe(CN)_6]$', linewidth = 2, color = 'lime')\n",
    "\n",
    "plt.scatter(x,y)\n",
    "\n",
    "plt.minorticks_on()\n",
    "\n",
    "plt.errorbar(x,y, xerr=xerr, fmt='o', ecolor='red')\n",
    "plt.errorbar(x,N, xerr=sigma_x, yerr=sigma_N, fmt='o', ecolor='red')\n",
    "\n",
    "plt.grid(which='major', color = 'k', linewidth = 0.5)\n",
    "plt.grid(which='minor',  color = 'k', linewidth = 0.5)\n",
    "\n",
    "plt.legend() \n",
    "\n",
    "plt.xlabel('Потенциал, В')\n",
    "plt.ylabel('Сила тока, мА')\n",
    "\n",
    "plt.title('Кривые поляризации при увеличении концентрации $K_4[Fe(CN)_6]$ \\nотносительно потенциала разрыва цепи')\n",
    "\n",
    "\n",
    "plt.savefig('кривые поляризации.png', dpi = 450)"
   ]
  },
  {
   "cell_type": "code",
   "execution_count": null,
   "id": "edeab258-d591-4c83-8411-01a24ee8b591",
   "metadata": {},
   "outputs": [],
   "source": []
  },
  {
   "cell_type": "code",
   "execution_count": null,
   "id": "dba2c81f-0bb2-4f8e-a55f-93d5973e5133",
   "metadata": {},
   "outputs": [],
   "source": []
  },
  {
   "cell_type": "code",
   "execution_count": null,
   "id": "7efcb5f0-fd4d-4114-a4e3-02d3f9c43818",
   "metadata": {},
   "outputs": [],
   "source": []
  },
  {
   "cell_type": "code",
   "execution_count": null,
   "id": "7173c882-753d-4c3c-9307-f3184c86b804",
   "metadata": {},
   "outputs": [],
   "source": []
  },
  {
   "cell_type": "code",
   "execution_count": null,
   "id": "ce0d111f-c019-4d5a-8c17-f47ab662d916",
   "metadata": {},
   "outputs": [],
   "source": []
  },
  {
   "cell_type": "code",
   "execution_count": null,
   "id": "d8e616f5-c987-41e6-8e9a-7ddacb2cb3cd",
   "metadata": {},
   "outputs": [],
   "source": []
  },
  {
   "cell_type": "code",
   "execution_count": null,
   "id": "0835ab77-7c35-42d4-9cfa-625b8780d8a6",
   "metadata": {},
   "outputs": [],
   "source": []
  }
 ],
 "metadata": {
  "kernelspec": {
   "display_name": "Python 3",
   "language": "python",
   "name": "python3"
  },
  "language_info": {
   "codemirror_mode": {
    "name": "ipython",
    "version": 3
   },
   "file_extension": ".py",
   "mimetype": "text/x-python",
   "name": "python",
   "nbconvert_exporter": "python",
   "pygments_lexer": "ipython3",
   "version": "3.8.8"
  }
 },
 "nbformat": 4,
 "nbformat_minor": 5
}
